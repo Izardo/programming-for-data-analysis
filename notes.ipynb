{
 "cells": [
  {
   "cell_type": "markdown",
   "source": [
    "# Notes for Programming for Data Analysis 2021\n",
    "\n",
    "Weight: \t\t\t10 credits\n",
    "Lecturer: \t\t\tBrian McGinley (brian.mcginley@gmit.ie)\n",
    "Content Released: \tThursday\n",
    "\n",
    "Learning outcomes\n",
    "\n",
    "On completion of this module the learner will/should be able to\n",
    "\n",
    "1.\tPerform exploratory analysis on data.\n",
    "2.\tProgrammatically create plots and other visual outputs from data.\n",
    "3.\tDesign computer algorithms to solve numerical problems.\n",
    "4.\tCreate software that incorporates and utilises standard numerical libraries.\n",
    "5.\tEmploy appropriate data structures when programming for data-intensive applications.\n",
    "6.\tModel real-world, data-intensive problems as computing problems.\n",
    "\n",
    "#### Indicative syllabus\n",
    "The following is a list of topics that will likely be covered in this module. Note that the topics might not be presented in this order and might not be explicitly referenced in course materials.\n",
    "Data\n",
    "Two-dimensional arrays, matrices, data frames, time series data structures, dictionaries, sets, vectors, slicing, indexing\n",
    "\n",
    "#### Programming\n",
    "Reshaping data structures, unzipping arrays, slicing, calculating descriptive statistics.\n",
    "\n",
    "#### Analytics\n",
    "Exploratory data analysis, scatterplots, histograms, boxplots, principal component analysis.\n",
    "\n",
    "#### Assessment\n",
    "The assessment of this module is broken down as follows.\n",
    "•\tPractical assignments (50%)\n",
    "•\tProject (50%)\n",
    "<br>\n",
    "<br>\n",
    "\n",
    "## Week 1: Introduction\n",
    "\n",
    "Introduction to module \n",
    "\n",
    "#### F-strings\n",
    "\n",
    "https://realpython.com/python-f-strings/\n",
    "\t\n",
    "Can be used within a print statement, can format print output as below"
   ],
   "metadata": {}
  },
  {
   "cell_type": "code",
   "execution_count": 6,
   "source": [
    "for i in range(20):\n",
    "    print(f\"{i:2} {i*i:4}\")\n",
    "\n",
    "print(range(20))"
   ],
   "outputs": [
    {
     "output_type": "stream",
     "name": "stdout",
     "text": [
      " 0    0\n",
      " 1    1\n",
      " 2    4\n",
      " 3    9\n",
      " 4   16\n",
      " 5   25\n",
      " 6   36\n",
      " 7   49\n",
      " 8   64\n",
      " 9   81\n",
      "10  100\n",
      "11  121\n",
      "12  144\n",
      "13  169\n",
      "14  196\n",
      "15  225\n",
      "16  256\n",
      "17  289\n",
      "18  324\n",
      "19  361\n",
      "range(0, 20)\n"
     ]
    }
   ],
   "metadata": {}
  },
  {
   "cell_type": "markdown",
   "source": [
    "## Week 2: Matplotlib\n",
    "\n",
    "To create noise within a plot: https://numpy.org/doc/stable/reference/random/generated/numpy.random.normal.html\n",
    "\n",
    "noise = np.random.normal(loc=0.0, scale=1.0, size=10)\n",
    "loc: center\t\n",
    "scale:  standard deviation \t\n",
    "size: amount\n",
    "\n",
    "The increments on the axes of the plots are called ticks. \n",
    "The bars on a plot are called bins.\n"
   ],
   "metadata": {}
  },
  {
   "cell_type": "code",
   "execution_count": 7,
   "source": [
    "# Plotting two plots using matplotlib\n",
    "# Author: Isabella Doyle\n",
    "\n",
    "import matplotlib.pyplot as plt\n",
    "import numpy as np\n",
    "\n",
    "# X-axis values\n",
    "x = np.arange(0.0, 10.0, 0.01)  # arange like range function but for floating point numbers\n",
    "\n",
    "# Y-axis values                 # 1st param is starting no, 2nd is end (9), 3rd is increments\n",
    "y = 3.0 * x + 1.0\n",
    "\n",
    "# Adds noise\n",
    "noise = np.random.normal(0.0, 1.0, len(x))\n",
    "\n",
    "# Plots values on two plots.    # r. = red dots\n",
    "plt.plot(x, y + noise, 'r.', label=\"Actual\")\n",
    "plt.plot(x, y, 'b-', label=\"Model\")            # b- = blue line \n",
    "\n",
    "# Adds title\n",
    "plt.title(\"A Simple Plot\")\n",
    "# Adds x-axis label\n",
    "plt.xlabel(\"X Label\")\n",
    "# Adds y-axis label\n",
    "plt.ylabel(\"Y Label\")\n",
    "# Adds legend\n",
    "plt.legend()                    # Labels for legend are parameters of plt.plot\n",
    "\n",
    "# Shows figure, cleans the slate, implements the plot with the instructions defined above\n",
    "plt.show()"
   ],
   "outputs": [
    {
     "output_type": "display_data",
     "data": {
      "image/png": "[encoded data removed]",
      "text/plain": [
       "<Figure size 432x288 with 1 Axes>"
      ]
     },
     "metadata": {
      "needs_background": "light"
     }
    }
   ],
   "metadata": {}
  },
  {
   "cell_type": "code",
   "execution_count": 8,
   "source": [
    "# Simple histogram\n",
    "# Isabella Doyle\n",
    "\n",
    "import matplotlib.pyplot as plt\n",
    "import numpy as np\n",
    "\n",
    "# One variable of data\n",
    "x = np.random.normal(0.0, 1.0, 1000)\n",
    "\n",
    "# Plots value on histogram\n",
    "plt.hist(x)\n",
    "\n",
    "plt.show()"
   ],
   "outputs": [
    {
     "output_type": "display_data",
     "data": {
      "image/png": "[encoded data removed]",
      "text/plain": [
       "<Figure size 432x288 with 1 Axes>"
      ]
     },
     "metadata": {
      "needs_background": "light"
     }
    }
   ],
   "metadata": {}
  }
 ],
 "metadata": {
  "kernelspec": {
   "name": "python3",
   "display_name": "Python 3.8.5 64-bit ('base': conda)"
  },
  "language_info": {
   "codemirror_mode": {
    "name": "ipython",
    "version": 3
   },
   "file_extension": ".py",
   "mimetype": "text/x-python",
   "name": "python",
   "nbconvert_exporter": "python",
   "pygments_lexer": "ipython3",
   "version": "3.8.5"
  },
  "interpreter": {
   "hash": "dca0ade3e726a953b501b15e8e990130d2b7799f14cfd9f4271676035ebe5511"
  }
 },
 "nbformat": 4,
 "nbformat_minor": 4
}